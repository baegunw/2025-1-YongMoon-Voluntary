{
  "nbformat": 4,
  "nbformat_minor": 0,
  "metadata": {
    "colab": {
      "provenance": []
    },
    "kernelspec": {
      "name": "python3",
      "display_name": "Python 3"
    },
    "language_info": {
      "name": "python"
    }
  },
  "cells": [
    {
      "cell_type": "code",
      "execution_count": 1,
      "metadata": {
        "colab": {
          "base_uri": "https://localhost:8080/"
        },
        "id": "7BWbPSXY2l78",
        "outputId": "d1c5dcbf-b7a3-455c-925c-159732fc0d82"
      },
      "outputs": [
        {
          "output_type": "stream",
          "name": "stdout",
          "text": [
            "tensor([[1, 2],\n",
            "        [3, 4]])\n"
          ]
        }
      ],
      "source": [
        "import torch\n",
        "\n",
        "data = [[1,2],[3,4]]\n",
        "x_data = torch.tensor(data)\n",
        "print(x_data)"
      ]
    },
    {
      "cell_type": "code",
      "source": [
        "tensor = x_data\n",
        "print(f\"Shape of tensor: {tensor.shape}\")\n",
        "print(f\"Datatype of tensor: {tensor.dtype}\")\n",
        "print(f\"Device tensor is stored on: {tensor.device}\")"
      ],
      "metadata": {
        "colab": {
          "base_uri": "https://localhost:8080/"
        },
        "id": "RLjqXtKn4h9i",
        "outputId": "c58dafe0-9681-4d5e-934b-e247a92db56a"
      },
      "execution_count": 2,
      "outputs": [
        {
          "output_type": "stream",
          "name": "stdout",
          "text": [
            "Shape of tensor: torch.Size([2, 2])\n",
            "Datatype of tensor: torch.int64\n",
            "Device tensor is stored on: cpu\n"
          ]
        }
      ]
    },
    {
      "cell_type": "code",
      "source": [
        "tensor = x_data\n",
        "tensor[:,1] = 0\n",
        "print(tensor)\n",
        "y1 = tensor @ tensor.T\n",
        "y2 = tensor.matmul(tensor.T)\n",
        "print(y1)\n",
        "print(y2)"
      ],
      "metadata": {
        "colab": {
          "base_uri": "https://localhost:8080/"
        },
        "id": "RzAb62S35D7C",
        "outputId": "afc6004e-5cc1-4f0c-858c-252383c766c1"
      },
      "execution_count": 16,
      "outputs": [
        {
          "output_type": "stream",
          "name": "stdout",
          "text": [
            "tensor([[1, 0, 3, 0],\n",
            "        [1, 0, 0, 0]])\n",
            "tensor([[10,  1],\n",
            "        [ 1,  1]])\n",
            "tensor([[10,  1],\n",
            "        [ 1,  1]])\n"
          ]
        }
      ]
    },
    {
      "cell_type": "code",
      "source": [],
      "metadata": {
        "id": "pi6zgFD9Fjrs"
      },
      "execution_count": null,
      "outputs": []
    }
  ]
}